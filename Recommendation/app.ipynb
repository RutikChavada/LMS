{
 "cells": [
  {
   "cell_type": "code",
   "execution_count": 2,
   "id": "8a48a8d2",
   "metadata": {},
   "outputs": [],
   "source": [
    "import pandas as pd"
   ]
  },
  {
   "cell_type": "code",
   "execution_count": 3,
   "id": "dac0fb1f",
   "metadata": {},
   "outputs": [],
   "source": [
    "data = pd.read_csv('AI_Resume_Screening.csv')"
   ]
  },
  {
   "cell_type": "code",
   "execution_count": 4,
   "id": "cef876c0",
   "metadata": {},
   "outputs": [
    {
     "data": {
      "text/html": [
       "<div>\n",
       "<style scoped>\n",
       "    .dataframe tbody tr th:only-of-type {\n",
       "        vertical-align: middle;\n",
       "    }\n",
       "\n",
       "    .dataframe tbody tr th {\n",
       "        vertical-align: top;\n",
       "    }\n",
       "\n",
       "    .dataframe thead th {\n",
       "        text-align: right;\n",
       "    }\n",
       "</style>\n",
       "<table border=\"1\" class=\"dataframe\">\n",
       "  <thead>\n",
       "    <tr style=\"text-align: right;\">\n",
       "      <th></th>\n",
       "      <th>Resume_ID</th>\n",
       "      <th>Name</th>\n",
       "      <th>Skills</th>\n",
       "      <th>Experience (Years)</th>\n",
       "      <th>Education</th>\n",
       "      <th>Certifications</th>\n",
       "      <th>Job Role</th>\n",
       "      <th>Recruiter Decision</th>\n",
       "      <th>Salary Expectation ($)</th>\n",
       "      <th>Projects Count</th>\n",
       "      <th>AI Score (0-100)</th>\n",
       "    </tr>\n",
       "  </thead>\n",
       "  <tbody>\n",
       "    <tr>\n",
       "      <th>0</th>\n",
       "      <td>1</td>\n",
       "      <td>Ashley Ali</td>\n",
       "      <td>TensorFlow, NLP, Pytorch</td>\n",
       "      <td>10</td>\n",
       "      <td>B.Sc</td>\n",
       "      <td>NaN</td>\n",
       "      <td>AI Researcher</td>\n",
       "      <td>Hire</td>\n",
       "      <td>104895</td>\n",
       "      <td>8</td>\n",
       "      <td>100</td>\n",
       "    </tr>\n",
       "    <tr>\n",
       "      <th>1</th>\n",
       "      <td>2</td>\n",
       "      <td>Wesley Roman</td>\n",
       "      <td>Deep Learning, Machine Learning, Python, SQL</td>\n",
       "      <td>10</td>\n",
       "      <td>MBA</td>\n",
       "      <td>Google ML</td>\n",
       "      <td>Data Scientist</td>\n",
       "      <td>Hire</td>\n",
       "      <td>113002</td>\n",
       "      <td>1</td>\n",
       "      <td>100</td>\n",
       "    </tr>\n",
       "    <tr>\n",
       "      <th>2</th>\n",
       "      <td>3</td>\n",
       "      <td>Corey Sanchez</td>\n",
       "      <td>Ethical Hacking, Cybersecurity, Linux</td>\n",
       "      <td>1</td>\n",
       "      <td>MBA</td>\n",
       "      <td>Deep Learning Specialization</td>\n",
       "      <td>Cybersecurity Analyst</td>\n",
       "      <td>Hire</td>\n",
       "      <td>71766</td>\n",
       "      <td>7</td>\n",
       "      <td>70</td>\n",
       "    </tr>\n",
       "    <tr>\n",
       "      <th>3</th>\n",
       "      <td>4</td>\n",
       "      <td>Elizabeth Carney</td>\n",
       "      <td>Python, Pytorch, TensorFlow</td>\n",
       "      <td>7</td>\n",
       "      <td>B.Tech</td>\n",
       "      <td>AWS Certified</td>\n",
       "      <td>AI Researcher</td>\n",
       "      <td>Hire</td>\n",
       "      <td>46848</td>\n",
       "      <td>0</td>\n",
       "      <td>95</td>\n",
       "    </tr>\n",
       "    <tr>\n",
       "      <th>4</th>\n",
       "      <td>5</td>\n",
       "      <td>Julie Hill</td>\n",
       "      <td>SQL, React, Java</td>\n",
       "      <td>4</td>\n",
       "      <td>PhD</td>\n",
       "      <td>NaN</td>\n",
       "      <td>Software Engineer</td>\n",
       "      <td>Hire</td>\n",
       "      <td>87441</td>\n",
       "      <td>9</td>\n",
       "      <td>100</td>\n",
       "    </tr>\n",
       "  </tbody>\n",
       "</table>\n",
       "</div>"
      ],
      "text/plain": [
       "   Resume_ID              Name                                        Skills  \\\n",
       "0          1        Ashley Ali                      TensorFlow, NLP, Pytorch   \n",
       "1          2      Wesley Roman  Deep Learning, Machine Learning, Python, SQL   \n",
       "2          3     Corey Sanchez         Ethical Hacking, Cybersecurity, Linux   \n",
       "3          4  Elizabeth Carney                   Python, Pytorch, TensorFlow   \n",
       "4          5        Julie Hill                              SQL, React, Java   \n",
       "\n",
       "   Experience (Years) Education                Certifications  \\\n",
       "0                  10      B.Sc                           NaN   \n",
       "1                  10       MBA                     Google ML   \n",
       "2                   1       MBA  Deep Learning Specialization   \n",
       "3                   7    B.Tech                 AWS Certified   \n",
       "4                   4       PhD                           NaN   \n",
       "\n",
       "                Job Role Recruiter Decision  Salary Expectation ($)  \\\n",
       "0          AI Researcher               Hire                  104895   \n",
       "1         Data Scientist               Hire                  113002   \n",
       "2  Cybersecurity Analyst               Hire                   71766   \n",
       "3          AI Researcher               Hire                   46848   \n",
       "4      Software Engineer               Hire                   87441   \n",
       "\n",
       "   Projects Count  AI Score (0-100)  \n",
       "0               8               100  \n",
       "1               1               100  \n",
       "2               7                70  \n",
       "3               0                95  \n",
       "4               9               100  "
      ]
     },
     "execution_count": 4,
     "metadata": {},
     "output_type": "execute_result"
    }
   ],
   "source": [
    "data.head()"
   ]
  },
  {
   "cell_type": "code",
   "execution_count": 5,
   "id": "b468bde7",
   "metadata": {},
   "outputs": [
    {
     "data": {
      "text/plain": [
       "(1000, 11)"
      ]
     },
     "execution_count": 5,
     "metadata": {},
     "output_type": "execute_result"
    }
   ],
   "source": [
    "data.shape"
   ]
  },
  {
   "cell_type": "code",
   "execution_count": 6,
   "id": "ee02e1e5",
   "metadata": {},
   "outputs": [
    {
     "data": {
      "text/plain": [
       "<bound method NDFrame.describe of      Resume_ID              Name  \\\n",
       "0            1        Ashley Ali   \n",
       "1            2      Wesley Roman   \n",
       "2            3     Corey Sanchez   \n",
       "3            4  Elizabeth Carney   \n",
       "4            5        Julie Hill   \n",
       "..         ...               ...   \n",
       "995        996   Brenda Williams   \n",
       "996        997     Colleen Hicks   \n",
       "997        998   Michelle Molina   \n",
       "998        999     Danielle Horn   \n",
       "999       1000      Chad Collins   \n",
       "\n",
       "                                                Skills  Experience (Years)  \\\n",
       "0                             TensorFlow, NLP, Pytorch                  10   \n",
       "1         Deep Learning, Machine Learning, Python, SQL                  10   \n",
       "2                Ethical Hacking, Cybersecurity, Linux                   1   \n",
       "3                          Python, Pytorch, TensorFlow                   7   \n",
       "4                                     SQL, React, Java                   4   \n",
       "..                                                 ...                 ...   \n",
       "995              Cybersecurity, Linux, Ethical Hacking                   0   \n",
       "996                    Deep Learning, Machine Learning                   0   \n",
       "997                                    TensorFlow, NLP                   0   \n",
       "998  Linux, Networking, Cybersecurity, Ethical Hacking                   8   \n",
       "999       SQL, Machine Learning, Python, Deep Learning                   7   \n",
       "\n",
       "    Education                Certifications               Job Role  \\\n",
       "0        B.Sc                           NaN          AI Researcher   \n",
       "1         MBA                     Google ML         Data Scientist   \n",
       "2         MBA  Deep Learning Specialization  Cybersecurity Analyst   \n",
       "3      B.Tech                 AWS Certified          AI Researcher   \n",
       "4         PhD                           NaN      Software Engineer   \n",
       "..        ...                           ...                    ...   \n",
       "995      B.Sc                           NaN  Cybersecurity Analyst   \n",
       "996       MBA  Deep Learning Specialization         Data Scientist   \n",
       "997    B.Tech                     Google ML          AI Researcher   \n",
       "998       PhD                 AWS Certified  Cybersecurity Analyst   \n",
       "999    M.Tech  Deep Learning Specialization         Data Scientist   \n",
       "\n",
       "    Recruiter Decision  Salary Expectation ($)  Projects Count  \\\n",
       "0                 Hire                  104895               8   \n",
       "1                 Hire                  113002               1   \n",
       "2                 Hire                   71766               7   \n",
       "3                 Hire                   46848               0   \n",
       "4                 Hire                   87441               9   \n",
       "..                 ...                     ...             ...   \n",
       "995             Reject                  114364               9   \n",
       "996             Reject                  103294               5   \n",
       "997               Hire                  113855               9   \n",
       "998               Hire                   83146              10   \n",
       "999               Hire                  119474               3   \n",
       "\n",
       "     AI Score (0-100)  \n",
       "0                 100  \n",
       "1                 100  \n",
       "2                  70  \n",
       "3                  95  \n",
       "4                 100  \n",
       "..                ...  \n",
       "995                60  \n",
       "996                45  \n",
       "997                65  \n",
       "998               100  \n",
       "999               100  \n",
       "\n",
       "[1000 rows x 11 columns]>"
      ]
     },
     "execution_count": 6,
     "metadata": {},
     "output_type": "execute_result"
    }
   ],
   "source": [
    "data.describe"
   ]
  },
  {
   "cell_type": "code",
   "execution_count": 43,
   "id": "c9020665",
   "metadata": {},
   "outputs": [
    {
     "data": {
      "text/html": [
       "<div>\n",
       "<style scoped>\n",
       "    .dataframe tbody tr th:only-of-type {\n",
       "        vertical-align: middle;\n",
       "    }\n",
       "\n",
       "    .dataframe tbody tr th {\n",
       "        vertical-align: top;\n",
       "    }\n",
       "\n",
       "    .dataframe thead th {\n",
       "        text-align: right;\n",
       "    }\n",
       "</style>\n",
       "<table border=\"1\" class=\"dataframe\">\n",
       "  <thead>\n",
       "    <tr style=\"text-align: right;\">\n",
       "      <th></th>\n",
       "      <th>Skills</th>\n",
       "      <th>Job Role</th>\n",
       "    </tr>\n",
       "  </thead>\n",
       "  <tbody>\n",
       "    <tr>\n",
       "      <th>0</th>\n",
       "      <td>False</td>\n",
       "      <td>False</td>\n",
       "    </tr>\n",
       "    <tr>\n",
       "      <th>1</th>\n",
       "      <td>False</td>\n",
       "      <td>False</td>\n",
       "    </tr>\n",
       "    <tr>\n",
       "      <th>2</th>\n",
       "      <td>False</td>\n",
       "      <td>False</td>\n",
       "    </tr>\n",
       "    <tr>\n",
       "      <th>3</th>\n",
       "      <td>False</td>\n",
       "      <td>False</td>\n",
       "    </tr>\n",
       "    <tr>\n",
       "      <th>4</th>\n",
       "      <td>False</td>\n",
       "      <td>False</td>\n",
       "    </tr>\n",
       "    <tr>\n",
       "      <th>...</th>\n",
       "      <td>...</td>\n",
       "      <td>...</td>\n",
       "    </tr>\n",
       "    <tr>\n",
       "      <th>995</th>\n",
       "      <td>False</td>\n",
       "      <td>False</td>\n",
       "    </tr>\n",
       "    <tr>\n",
       "      <th>996</th>\n",
       "      <td>False</td>\n",
       "      <td>False</td>\n",
       "    </tr>\n",
       "    <tr>\n",
       "      <th>997</th>\n",
       "      <td>False</td>\n",
       "      <td>False</td>\n",
       "    </tr>\n",
       "    <tr>\n",
       "      <th>998</th>\n",
       "      <td>False</td>\n",
       "      <td>False</td>\n",
       "    </tr>\n",
       "    <tr>\n",
       "      <th>999</th>\n",
       "      <td>False</td>\n",
       "      <td>False</td>\n",
       "    </tr>\n",
       "  </tbody>\n",
       "</table>\n",
       "<p>1000 rows × 2 columns</p>\n",
       "</div>"
      ],
      "text/plain": [
       "     Skills  Job Role\n",
       "0     False     False\n",
       "1     False     False\n",
       "2     False     False\n",
       "3     False     False\n",
       "4     False     False\n",
       "..      ...       ...\n",
       "995   False     False\n",
       "996   False     False\n",
       "997   False     False\n",
       "998   False     False\n",
       "999   False     False\n",
       "\n",
       "[1000 rows x 2 columns]"
      ]
     },
     "execution_count": 43,
     "metadata": {},
     "output_type": "execute_result"
    }
   ],
   "source": [
    "data.isnull()"
   ]
  },
  {
   "cell_type": "code",
   "execution_count": 44,
   "id": "c99bd76c",
   "metadata": {},
   "outputs": [
    {
     "data": {
      "text/plain": [
       "Skills      0\n",
       "Job Role    0\n",
       "dtype: int64"
      ]
     },
     "execution_count": 44,
     "metadata": {},
     "output_type": "execute_result"
    }
   ],
   "source": [
    "data.isnull().sum()"
   ]
  },
  {
   "cell_type": "code",
   "execution_count": 7,
   "id": "5417f485",
   "metadata": {},
   "outputs": [],
   "source": [
    "data = data.drop(columns=['Resume_ID','Name','Experience (Years)','Education','Certifications','Recruiter Decision','Salary Expectation ($)','Projects Count','AI Score (0-100)'])"
   ]
  },
  {
   "cell_type": "code",
   "execution_count": 8,
   "id": "349dcf2c",
   "metadata": {},
   "outputs": [
    {
     "data": {
      "text/html": [
       "<div>\n",
       "<style scoped>\n",
       "    .dataframe tbody tr th:only-of-type {\n",
       "        vertical-align: middle;\n",
       "    }\n",
       "\n",
       "    .dataframe tbody tr th {\n",
       "        vertical-align: top;\n",
       "    }\n",
       "\n",
       "    .dataframe thead th {\n",
       "        text-align: right;\n",
       "    }\n",
       "</style>\n",
       "<table border=\"1\" class=\"dataframe\">\n",
       "  <thead>\n",
       "    <tr style=\"text-align: right;\">\n",
       "      <th></th>\n",
       "      <th>Skills</th>\n",
       "      <th>Job Role</th>\n",
       "    </tr>\n",
       "  </thead>\n",
       "  <tbody>\n",
       "    <tr>\n",
       "      <th>0</th>\n",
       "      <td>TensorFlow, NLP, Pytorch</td>\n",
       "      <td>AI Researcher</td>\n",
       "    </tr>\n",
       "    <tr>\n",
       "      <th>1</th>\n",
       "      <td>Deep Learning, Machine Learning, Python, SQL</td>\n",
       "      <td>Data Scientist</td>\n",
       "    </tr>\n",
       "    <tr>\n",
       "      <th>2</th>\n",
       "      <td>Ethical Hacking, Cybersecurity, Linux</td>\n",
       "      <td>Cybersecurity Analyst</td>\n",
       "    </tr>\n",
       "    <tr>\n",
       "      <th>3</th>\n",
       "      <td>Python, Pytorch, TensorFlow</td>\n",
       "      <td>AI Researcher</td>\n",
       "    </tr>\n",
       "    <tr>\n",
       "      <th>4</th>\n",
       "      <td>SQL, React, Java</td>\n",
       "      <td>Software Engineer</td>\n",
       "    </tr>\n",
       "  </tbody>\n",
       "</table>\n",
       "</div>"
      ],
      "text/plain": [
       "                                         Skills               Job Role\n",
       "0                      TensorFlow, NLP, Pytorch          AI Researcher\n",
       "1  Deep Learning, Machine Learning, Python, SQL         Data Scientist\n",
       "2         Ethical Hacking, Cybersecurity, Linux  Cybersecurity Analyst\n",
       "3                   Python, Pytorch, TensorFlow          AI Researcher\n",
       "4                              SQL, React, Java      Software Engineer"
      ]
     },
     "execution_count": 8,
     "metadata": {},
     "output_type": "execute_result"
    }
   ],
   "source": [
    "data.head()"
   ]
  },
  {
   "cell_type": "code",
   "execution_count": 9,
   "id": "27811773",
   "metadata": {},
   "outputs": [
    {
     "data": {
      "text/plain": [
       "(1000, 2)"
      ]
     },
     "execution_count": 9,
     "metadata": {},
     "output_type": "execute_result"
    }
   ],
   "source": [
    "data.shape"
   ]
  },
  {
   "cell_type": "code",
   "execution_count": 10,
   "id": "f3b44d70",
   "metadata": {},
   "outputs": [],
   "source": [
    "def mearge(skills_list):\n",
    "    all = set()\n",
    "    for skills in skills_list:\n",
    "        all.update(s.strip() for s in skills.split(','))\n",
    "    return ', '.join(sorted(all))"
   ]
  },
  {
   "cell_type": "code",
   "execution_count": 11,
   "id": "cfb88cb3",
   "metadata": {},
   "outputs": [],
   "source": [
    "df = data.groupby('Job Role')['Skills'].apply(mearge).reset_index()"
   ]
  },
  {
   "cell_type": "code",
   "execution_count": 12,
   "id": "41ccbf77",
   "metadata": {},
   "outputs": [
    {
     "data": {
      "text/plain": [
       "<bound method NDFrame.head of                 Job Role                                             Skills\n",
       "0          AI Researcher                   NLP, Python, Pytorch, TensorFlow\n",
       "1  Cybersecurity Analyst  Cybersecurity, Ethical Hacking, Linux, Networking\n",
       "2         Data Scientist       Deep Learning, Machine Learning, Python, SQL\n",
       "3      Software Engineer                              C++, Java, React, SQL>"
      ]
     },
     "execution_count": 12,
     "metadata": {},
     "output_type": "execute_result"
    }
   ],
   "source": [
    "df.head"
   ]
  },
  {
   "cell_type": "code",
   "execution_count": 13,
   "id": "bdbf55c1",
   "metadata": {},
   "outputs": [
    {
     "data": {
      "text/plain": [
       "(4, 2)"
      ]
     },
     "execution_count": 13,
     "metadata": {},
     "output_type": "execute_result"
    }
   ],
   "source": [
    "df.shape"
   ]
  },
  {
   "cell_type": "code",
   "execution_count": 14,
   "id": "2b2efa4d",
   "metadata": {},
   "outputs": [],
   "source": [
    "df.to_csv('data.csv',index=False)"
   ]
  },
  {
   "cell_type": "code",
   "execution_count": 24,
   "id": "bc6c97fc",
   "metadata": {},
   "outputs": [],
   "source": [
    "dataframe = pd.read_csv('data.csv')"
   ]
  },
  {
   "cell_type": "code",
   "execution_count": 25,
   "id": "2380ef1b",
   "metadata": {},
   "outputs": [
    {
     "data": {
      "text/html": [
       "<div>\n",
       "<style scoped>\n",
       "    .dataframe tbody tr th:only-of-type {\n",
       "        vertical-align: middle;\n",
       "    }\n",
       "\n",
       "    .dataframe tbody tr th {\n",
       "        vertical-align: top;\n",
       "    }\n",
       "\n",
       "    .dataframe thead th {\n",
       "        text-align: right;\n",
       "    }\n",
       "</style>\n",
       "<table border=\"1\" class=\"dataframe\">\n",
       "  <thead>\n",
       "    <tr style=\"text-align: right;\">\n",
       "      <th></th>\n",
       "      <th>Job Role</th>\n",
       "      <th>Skills</th>\n",
       "    </tr>\n",
       "  </thead>\n",
       "  <tbody>\n",
       "    <tr>\n",
       "      <th>0</th>\n",
       "      <td>AI Researcher</td>\n",
       "      <td>NLP, Python, Pytorch, TensorFlow</td>\n",
       "    </tr>\n",
       "    <tr>\n",
       "      <th>1</th>\n",
       "      <td>Cybersecurity Analyst</td>\n",
       "      <td>Cybersecurity, Ethical Hacking, Linux, Networking</td>\n",
       "    </tr>\n",
       "    <tr>\n",
       "      <th>2</th>\n",
       "      <td>Data Scientist</td>\n",
       "      <td>Deep Learning, Machine Learning, Python, SQL</td>\n",
       "    </tr>\n",
       "    <tr>\n",
       "      <th>3</th>\n",
       "      <td>Software Engineer</td>\n",
       "      <td>C++, Java, React, SQL</td>\n",
       "    </tr>\n",
       "    <tr>\n",
       "      <th>4</th>\n",
       "      <td>AI Researcher</td>\n",
       "      <td>Python, TensorFlow, NLP, Pytorch</td>\n",
       "    </tr>\n",
       "  </tbody>\n",
       "</table>\n",
       "</div>"
      ],
      "text/plain": [
       "                Job Role                                             Skills\n",
       "0          AI Researcher                   NLP, Python, Pytorch, TensorFlow\n",
       "1  Cybersecurity Analyst  Cybersecurity, Ethical Hacking, Linux, Networking\n",
       "2         Data Scientist       Deep Learning, Machine Learning, Python, SQL\n",
       "3      Software Engineer                              C++, Java, React, SQL\n",
       "4          AI Researcher                   Python, TensorFlow, NLP, Pytorch"
      ]
     },
     "execution_count": 25,
     "metadata": {},
     "output_type": "execute_result"
    }
   ],
   "source": [
    "dataframe.head()"
   ]
  },
  {
   "cell_type": "code",
   "execution_count": 26,
   "id": "9238a4e9",
   "metadata": {},
   "outputs": [],
   "source": [
    "newdf = dataframe.groupby('Job Role')['Skills'].apply(mearge).reset_index()"
   ]
  },
  {
   "cell_type": "code",
   "execution_count": 27,
   "id": "c8607ec5",
   "metadata": {},
   "outputs": [
    {
     "data": {
      "text/html": [
       "<div>\n",
       "<style scoped>\n",
       "    .dataframe tbody tr th:only-of-type {\n",
       "        vertical-align: middle;\n",
       "    }\n",
       "\n",
       "    .dataframe tbody tr th {\n",
       "        vertical-align: top;\n",
       "    }\n",
       "\n",
       "    .dataframe thead th {\n",
       "        text-align: right;\n",
       "    }\n",
       "</style>\n",
       "<table border=\"1\" class=\"dataframe\">\n",
       "  <thead>\n",
       "    <tr style=\"text-align: right;\">\n",
       "      <th></th>\n",
       "      <th>Job Role</th>\n",
       "      <th>Skills</th>\n",
       "    </tr>\n",
       "  </thead>\n",
       "  <tbody>\n",
       "    <tr>\n",
       "      <th>0</th>\n",
       "      <td>AI Researcher</td>\n",
       "      <td>Computer Vision, GANs, Keras, NLP, Python, Pyt...</td>\n",
       "    </tr>\n",
       "    <tr>\n",
       "      <th>1</th>\n",
       "      <td>Cloud Engineer</td>\n",
       "      <td>AWS, Azure, Docker, GCP, Helm, Kubernetes, Ter...</td>\n",
       "    </tr>\n",
       "    <tr>\n",
       "      <th>2</th>\n",
       "      <td>Cybersecurity Analyst</td>\n",
       "      <td>Cybersecurity, Ethical Hacking, Firewalls, IDS...</td>\n",
       "    </tr>\n",
       "    <tr>\n",
       "      <th>3</th>\n",
       "      <td>Data Scientist</td>\n",
       "      <td>Data Cleaning, Data Visualization, Deep Learni...</td>\n",
       "    </tr>\n",
       "    <tr>\n",
       "      <th>4</th>\n",
       "      <td>Database Administrator</td>\n",
       "      <td>Cassandra, ElasticSearch, MongoDB, MySQL, Orac...</td>\n",
       "    </tr>\n",
       "  </tbody>\n",
       "</table>\n",
       "</div>"
      ],
      "text/plain": [
       "                 Job Role                                             Skills\n",
       "0           AI Researcher  Computer Vision, GANs, Keras, NLP, Python, Pyt...\n",
       "1          Cloud Engineer  AWS, Azure, Docker, GCP, Helm, Kubernetes, Ter...\n",
       "2   Cybersecurity Analyst  Cybersecurity, Ethical Hacking, Firewalls, IDS...\n",
       "3          Data Scientist  Data Cleaning, Data Visualization, Deep Learni...\n",
       "4  Database Administrator  Cassandra, ElasticSearch, MongoDB, MySQL, Orac..."
      ]
     },
     "execution_count": 27,
     "metadata": {},
     "output_type": "execute_result"
    }
   ],
   "source": [
    "newdf.head()"
   ]
  },
  {
   "cell_type": "code",
   "execution_count": 28,
   "id": "482f54bc",
   "metadata": {},
   "outputs": [
    {
     "data": {
      "text/plain": [
       "(12, 2)"
      ]
     },
     "execution_count": 28,
     "metadata": {},
     "output_type": "execute_result"
    }
   ],
   "source": [
    "newdf.shape"
   ]
  },
  {
   "cell_type": "code",
   "execution_count": 29,
   "id": "fef4796d",
   "metadata": {},
   "outputs": [],
   "source": [
    "newdf['Skills'] = newdf['Skills'].apply(lambda x : x.lower())"
   ]
  },
  {
   "cell_type": "code",
   "execution_count": 30,
   "id": "c4a666df",
   "metadata": {},
   "outputs": [
    {
     "data": {
      "text/html": [
       "<div>\n",
       "<style scoped>\n",
       "    .dataframe tbody tr th:only-of-type {\n",
       "        vertical-align: middle;\n",
       "    }\n",
       "\n",
       "    .dataframe tbody tr th {\n",
       "        vertical-align: top;\n",
       "    }\n",
       "\n",
       "    .dataframe thead th {\n",
       "        text-align: right;\n",
       "    }\n",
       "</style>\n",
       "<table border=\"1\" class=\"dataframe\">\n",
       "  <thead>\n",
       "    <tr style=\"text-align: right;\">\n",
       "      <th></th>\n",
       "      <th>Job Role</th>\n",
       "      <th>Skills</th>\n",
       "    </tr>\n",
       "  </thead>\n",
       "  <tbody>\n",
       "    <tr>\n",
       "      <th>0</th>\n",
       "      <td>AI Researcher</td>\n",
       "      <td>computer vision, gans, keras, nlp, python, pyt...</td>\n",
       "    </tr>\n",
       "    <tr>\n",
       "      <th>1</th>\n",
       "      <td>Cloud Engineer</td>\n",
       "      <td>aws, azure, docker, gcp, helm, kubernetes, ter...</td>\n",
       "    </tr>\n",
       "    <tr>\n",
       "      <th>2</th>\n",
       "      <td>Cybersecurity Analyst</td>\n",
       "      <td>cybersecurity, ethical hacking, firewalls, ids...</td>\n",
       "    </tr>\n",
       "    <tr>\n",
       "      <th>3</th>\n",
       "      <td>Data Scientist</td>\n",
       "      <td>data cleaning, data visualization, deep learni...</td>\n",
       "    </tr>\n",
       "    <tr>\n",
       "      <th>4</th>\n",
       "      <td>Database Administrator</td>\n",
       "      <td>cassandra, elasticsearch, mongodb, mysql, orac...</td>\n",
       "    </tr>\n",
       "  </tbody>\n",
       "</table>\n",
       "</div>"
      ],
      "text/plain": [
       "                 Job Role                                             Skills\n",
       "0           AI Researcher  computer vision, gans, keras, nlp, python, pyt...\n",
       "1          Cloud Engineer  aws, azure, docker, gcp, helm, kubernetes, ter...\n",
       "2   Cybersecurity Analyst  cybersecurity, ethical hacking, firewalls, ids...\n",
       "3          Data Scientist  data cleaning, data visualization, deep learni...\n",
       "4  Database Administrator  cassandra, elasticsearch, mongodb, mysql, orac..."
      ]
     },
     "execution_count": 30,
     "metadata": {},
     "output_type": "execute_result"
    }
   ],
   "source": [
    "newdf.head()"
   ]
  },
  {
   "cell_type": "code",
   "execution_count": 31,
   "id": "1dca9db5",
   "metadata": {},
   "outputs": [],
   "source": [
    "from sklearn.feature_extraction.text import CountVectorizer\n",
    "cv = CountVectorizer(max_features=5000,stop_words='english')"
   ]
  },
  {
   "cell_type": "code",
   "execution_count": 32,
   "id": "dfdf69fb",
   "metadata": {},
   "outputs": [],
   "source": [
    "vectors = cv.fit_transform(newdf['Skills']).toarray()"
   ]
  },
  {
   "cell_type": "code",
   "execution_count": 33,
   "id": "2c36d988",
   "metadata": {},
   "outputs": [
    {
     "data": {
      "text/plain": [
       "array([[0, 0, 0, ..., 1, 0, 0],\n",
       "       [0, 0, 1, ..., 0, 0, 0],\n",
       "       [0, 0, 0, ..., 0, 0, 0],\n",
       "       ...,\n",
       "       [0, 0, 0, ..., 0, 0, 0],\n",
       "       [0, 0, 0, ..., 0, 0, 0],\n",
       "       [1, 0, 0, ..., 0, 0, 1]], dtype=int64)"
      ]
     },
     "execution_count": 33,
     "metadata": {},
     "output_type": "execute_result"
    }
   ],
   "source": [
    "vectors"
   ]
  },
  {
   "cell_type": "code",
   "execution_count": 34,
   "id": "3fdda15e",
   "metadata": {},
   "outputs": [
    {
     "data": {
      "text/plain": [
       "array(['angular', 'ansible', 'aws', 'azure', 'blender', 'boot',\n",
       "       'cassandra', 'cd', 'chef', 'ci', 'cleaning', 'computer', 'css',\n",
       "       'cybersecurity', 'dart', 'data', 'deep', 'directx', 'docker',\n",
       "       'elasticsearch', 'engine', 'ethical', 'expressjs', 'firewalls',\n",
       "       'flutter', 'gans', 'gcp', 'gitlab', 'godot', 'golang', 'grafana',\n",
       "       'hacking', 'helm', 'html', 'ids', 'incident', 'java', 'javascript',\n",
       "       'jenkins', 'js', 'kali', 'keras', 'kotlin', 'kubernetes', 'learn',\n",
       "       'learning', 'linux', 'machine', 'microservices', 'mongodb',\n",
       "       'mysql', 'native', 'net', 'networking', 'nextjs', 'nlp', 'node',\n",
       "       'nodejs', 'objective', 'opengl', 'oracle', 'penetration',\n",
       "       'postgresql', 'prometheus', 'puppet', 'python', 'pytorch', 'react',\n",
       "       'reactjs', 'redis', 'reinforcement', 'response', 'sass', 'scikit',\n",
       "       'server', 'siem', 'spring', 'sql', 'statistics', 'swift',\n",
       "       'tailwind', 'tensorflow', 'terraform', 'testing', 'unity',\n",
       "       'unreal', 'vision', 'visualization', 'vue'], dtype=object)"
      ]
     },
     "execution_count": 34,
     "metadata": {},
     "output_type": "execute_result"
    }
   ],
   "source": [
    "cv.get_feature_names_out()"
   ]
  },
  {
   "cell_type": "code",
   "execution_count": 35,
   "id": "b3885049",
   "metadata": {},
   "outputs": [],
   "source": [
    "from sklearn.metrics.pairwise import cosine_similarity"
   ]
  },
  {
   "cell_type": "code",
   "execution_count": 36,
   "id": "dcdedba8",
   "metadata": {},
   "outputs": [],
   "source": [
    "similarity = cosine_similarity(vectors)"
   ]
  },
  {
   "cell_type": "code",
   "execution_count": 37,
   "id": "9d3d9ece",
   "metadata": {},
   "outputs": [
    {
     "data": {
      "text/plain": [
       "[(3, 0.23008949665421113), (1, 0.0), (2, 0.0), (4, 0.0), (5, 0.0)]"
      ]
     },
     "execution_count": 37,
     "metadata": {},
     "output_type": "execute_result"
    }
   ],
   "source": [
    "sorted(list(enumerate(similarity[0])),reverse=True,key=lambda x:x[1])[1:6]"
   ]
  },
  {
   "cell_type": "code",
   "execution_count": 38,
   "id": "fcd0e9ad",
   "metadata": {},
   "outputs": [],
   "source": [
    "def recommend(skill):\n",
    "    skill_index = newdf[newdf['Job Role'] == skill].index[0]\n",
    "    distance = similarity[skill_index]\n",
    "    top_matches = sorted(list(enumerate(distance)),reverse=True,key=lambda x:x[1])[1:6]\n",
    "    for i in top_matches:\n",
    "        print(newdf.iloc[i[0]]['Job Role'])"
   ]
  },
  {
   "cell_type": "code",
   "execution_count": 39,
   "id": "71e1198e",
   "metadata": {},
   "outputs": [
    {
     "name": "stdout",
     "output_type": "stream",
     "text": [
      "AI Researcher\n",
      "Cloud Engineer\n",
      "Cybersecurity Analyst\n",
      "Data Scientist\n",
      "Database Administrator\n"
     ]
    }
   ],
   "source": [
    "recommend('Game Developer')"
   ]
  },
  {
   "cell_type": "code",
   "execution_count": 40,
   "id": "99a06598",
   "metadata": {},
   "outputs": [
    {
     "name": "stdout",
     "output_type": "stream",
     "text": [
      "Frontend Developer\n",
      "Web Developer\n",
      "Database Administrator\n",
      "Software Engineer\n",
      "Data Scientist\n"
     ]
    }
   ],
   "source": [
    "recommend('Full Stack Developer')"
   ]
  }
 ],
 "metadata": {
  "kernelspec": {
   "display_name": "base",
   "language": "python",
   "name": "python3"
  },
  "language_info": {
   "codemirror_mode": {
    "name": "ipython",
    "version": 3
   },
   "file_extension": ".py",
   "mimetype": "text/x-python",
   "name": "python",
   "nbconvert_exporter": "python",
   "pygments_lexer": "ipython3",
   "version": "3.12.7"
  }
 },
 "nbformat": 4,
 "nbformat_minor": 5
}
